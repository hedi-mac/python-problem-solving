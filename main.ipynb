{
 "cells": [
  {
   "cell_type": "markdown",
   "metadata": {},
   "source": [
    "# 1. Valid anagram"
   ]
  },
  {
   "cell_type": "markdown",
   "metadata": {},
   "source": [
    "<div style=\"text-align:center;\">\n",
    "    <img src=\"photos/anagram.png\" alt=\"Alt Text\" width=\"220\" height=\"190\">\n",
    "</div>"
   ]
  },
  {
   "cell_type": "markdown",
   "metadata": {},
   "source": [
    "## 1.1 method 1 :"
   ]
  },
  {
   "cell_type": "code",
   "execution_count": 32,
   "metadata": {},
   "outputs": [],
   "source": [
    "# Time complexity: T(n) = O(1) + O(1) + O(n) + O(m) + O(n) + O(1)\n",
    "#                       = O(1) + O(n) + O(m) + O(n) + O(1) \n",
    "#                       = O(2) + O(2n) + O(m)\n",
    "#                       = O(2n + m) \n",
    "def are_anagrams(str1, str2):\n",
    "    # Time complexity: O(1)\n",
    "    if len(str1) != len(str2):\n",
    "        return False\n",
    "    # Time complexity: O(1)\n",
    "    freq1 = {}\n",
    "    freq2 = {}\n",
    "    # Time complexity: O(n), where 'n' is the length of str1\n",
    "    for c in str1:\n",
    "        if c in freq1:\n",
    "            freq1[c] += 1\n",
    "        else:\n",
    "            freq1[c] = 1\n",
    "    # Time complexity: O(m), where 'm' is the length of str2\n",
    "    for c in str2:\n",
    "        if c in freq2:\n",
    "            freq2[c] += 1\n",
    "        else:\n",
    "            freq2[c] = 1\n",
    "    # Time complexity: O(n), where 'n' is the length of str1 or str2 (whichever is longer)\n",
    "    for key in freq1:    \n",
    "        if key not in freq2 or freq1[key] != freq2[key]:\n",
    "            return False\n",
    "    # Time complexity: O(1), as it's a constant-time operation\n",
    "    return True"
   ]
  },
  {
   "cell_type": "markdown",
   "metadata": {},
   "source": [
    "## 1.2 method 2 :"
   ]
  },
  {
   "cell_type": "code",
   "execution_count": 34,
   "metadata": {},
   "outputs": [],
   "source": [
    "from collections import Counter\n",
    "# Time complexity: T(n) = O(1) + O(n) + O(m)\n",
    "#                       = O(n + m)\n",
    "def are_anagrams(str1, str2):\n",
    "    # Time complexity: O(1), as it's a constant-time operation\n",
    "    if len(str1) != len(str2):\n",
    "        return False\n",
    "    # Time complexity: O(n) + O(m), where 'n' is the length of str1 and 'm' is the length of str2\n",
    "    return Counter(str1) == Counter(str2)"
   ]
  },
  {
   "cell_type": "markdown",
   "metadata": {},
   "source": [
    "## 1.3 method 3 :"
   ]
  },
  {
   "cell_type": "code",
   "execution_count": 39,
   "metadata": {},
   "outputs": [],
   "source": [
    "# Time complexity: T(n) = O(1) + O(n * log(n))\n",
    "#                       = O(n * log(n))\n",
    "def are_anagrams(str1, str2):\n",
    "    # Time complexity: O(1), as it's a constant-time operation\n",
    "    if len(str1) != len(str2):\n",
    "        return False\n",
    "    # Time complexity: O(n*log(n)), where 'n' is the length of str1 or str2 (whichever is longer)\n",
    "    return sorted(str1) == sorted(str2)"
   ]
  },
  {
   "cell_type": "code",
   "execution_count": 40,
   "metadata": {},
   "outputs": [
    {
     "data": {
      "text/plain": [
       "True"
      ]
     },
     "execution_count": 40,
     "metadata": {},
     "output_type": "execute_result"
    }
   ],
   "source": [
    "are_anagrams(\"danger\", \"garden\")"
   ]
  },
  {
   "cell_type": "markdown",
   "metadata": {},
   "source": [
    "# 2. First and last index in sorted array"
   ]
  },
  {
   "cell_type": "markdown",
   "metadata": {},
   "source": [
    "Given a sorted array of integers and an integer, find the index of the first and last position of this target in the array. If target can't be found in array, return [-1, -1]\n",
    "<div style=\"text-align:center;\">\n",
    "    <img src=\"photos/firstlast.png\" alt=\"Alt Text\" width=\"280\" height=\"100\">\n",
    "</div>"
   ]
  },
  {
   "cell_type": "markdown",
   "metadata": {},
   "source": [
    "## 2.1 method 1 :\n",
    "(Search)"
   ]
  },
  {
   "cell_type": "code",
   "execution_count": 41,
   "metadata": {},
   "outputs": [],
   "source": [
    "# Time complexity: T(n) = O(n) + O(k) + O(1)\n",
    "#                       = O(n + k) \n",
    "def first_and_last(arr, target):\n",
    "    # Time complexity: O(n), where 'n' is the length of the array arr\n",
    "    for i in range(len(arr)):\n",
    "        if arr[i] == target:\n",
    "            start = i\n",
    "            # Time complexity: O(k), where 'k' is the number of occurrences of the target\n",
    "            while i + 1 < len(arr) and arr[i + 1] == target:\n",
    "                i += 1\n",
    "            return [start, i]\n",
    "    # Time complexity: O(1), as it's a constant-time operation\n",
    "    return [-1, -1]"
   ]
  },
  {
   "cell_type": "markdown",
   "metadata": {},
   "source": [
    "## 2.2 method 2 :\n",
    "(Binary search)"
   ]
  },
  {
   "cell_type": "code",
   "execution_count": 45,
   "metadata": {},
   "outputs": [],
   "source": [
    "# Time complexity: T(n) = O(log n)\n",
    "def find_start(arr, target):\n",
    "    # Time complexity: O(1), as it's a constant-time operation\n",
    "    if arr[0] == target:\n",
    "        return 0\n",
    "    left, right = 0, len(arr) - 1\n",
    "    # Time complexity: O(log n)\n",
    "    while left <= right:\n",
    "        mid = (left + right) // 2\n",
    "        # Time complexity: O(1), as it's a constant-time operation\n",
    "        if arr[mid] == target and arr[mid - 1] < target:\n",
    "            return mid\n",
    "        elif arr[mid] < target:\n",
    "            left = mid + 1\n",
    "        else:\n",
    "            right = mid - 1\n",
    "    # Time complexity: O(1), as it's a constant-time operation\n",
    "    return -1\n",
    "\n",
    "# Time complexity: T(n) = O(log n)\n",
    "def find_end(arr, target):\n",
    "    # Time complexity: O(1), as it's a constant-time operation\n",
    "    if arr[-1] == target:\n",
    "        return len(arr) - 1\n",
    "    left, right = 0, len(arr) - 1\n",
    "    # Time complexity: O(log n)\n",
    "    while left <= right:\n",
    "        mid = (left + right) // 2\n",
    "        # Time complexity: O(1), as it's a constant-time operation\n",
    "        if arr[mid] == target and arr[mid + 1] > target:\n",
    "            return mid\n",
    "        elif arr[mid] > target:\n",
    "            right = mid - 1\n",
    "        else:\n",
    "            left = mid + 1\n",
    "    # Time complexity: O(1), as it's a constant-time operation\n",
    "    return -1\n",
    "\n",
    "# Time complexity: T(n) = O(log n) + O(log n)\n",
    "#                       = 2 * O(log n)\n",
    "#                       = O(log n) \n",
    "def first_and_last(arr, target):\n",
    "    if len(arr) == 0 or arr[0] > target or arr[-1] < target:\n",
    "        return [-1, -1]\n",
    "    start = find_start(arr, target)  # O(log n)\n",
    "    end = find_end(arr, target)      # O(log n)\n",
    "    return [start, end]"
   ]
  },
  {
   "cell_type": "code",
   "execution_count": 46,
   "metadata": {},
   "outputs": [
    {
     "data": {
      "text/plain": [
       "[2, 6]"
      ]
     },
     "execution_count": 46,
     "metadata": {},
     "output_type": "execute_result"
    }
   ],
   "source": [
    "first_and_last([2, 4, 5, 5, 5, 5, 5, 7, 9, 9], 5)"
   ]
  },
  {
   "cell_type": "markdown",
   "metadata": {},
   "source": [
    "# 3. Kth largest element"
   ]
  },
  {
   "cell_type": "markdown",
   "metadata": {},
   "source": [
    "Given an array of integers and an integer K, find the Kth largest element (1 <= L <= len(array))\n",
    "<div style=\"text-align:center;\">\n",
    "    <img src=\"photos/Kth.png\" alt=\"Alt Text\" width=\"260\" height=\"200\">\n",
    "</div>"
   ]
  },
  {
   "cell_type": "markdown",
   "metadata": {},
   "source": [
    "## 3.1 method 1 :"
   ]
  },
  {
   "cell_type": "code",
   "execution_count": 47,
   "metadata": {},
   "outputs": [],
   "source": [
    "# Time complexity: T(n, k) = (k-1) * 2n + n\n",
    "#                          = 2kn -n\n",
    "#                          = O(kn)   \n",
    "def kth_largest(arr, k):\n",
    "    # Time complexity: O(k - 1) = O(k)\n",
    "    for i in range(k - 1):\n",
    "        # Time complexity: O(2n), where 'n' is the current length of the array arr\n",
    "        arr.remove(max(arr))\n",
    "    # Time complexity: O(n)\n",
    "    return max(arr)"
   ]
  },
  {
   "cell_type": "markdown",
   "metadata": {},
   "source": [
    "## 3.2 method 2 :\n",
    "(sorting)"
   ]
  },
  {
   "cell_type": "code",
   "execution_count": 51,
   "metadata": {},
   "outputs": [],
   "source": [
    "# Time complexity: T(n) = O(n log n) + O(1)\n",
    "#                          = O(n log n)\n",
    "def kth_largest(arr, k):\n",
    "    n = len(arr)\n",
    "    # Time complexity: O(n log n)\n",
    "    arr.sort()\n",
    "    # Time complexity: O(1)\n",
    "    return arr[n-k]"
   ]
  },
  {
   "cell_type": "markdown",
   "metadata": {},
   "source": [
    "## 3.3 method 3 :\n",
    "(Heap)\n",
    "<div style=\"text-align:center;\">\n",
    "    <img src=\"photos/Kth2.png\" alt=\"Alt Text\" width=\"260\" height=\"170\">\n",
    "</div>"
   ]
  },
  {
   "cell_type": "code",
   "execution_count": 52,
   "metadata": {},
   "outputs": [],
   "source": [
    "import heapq\n",
    "\n",
    "# Time complexity: T(n, k) = 2n + (k-1) * log n + log n\n",
    "#                          = 2n + k log n\n",
    "#                          = O(n + k log n) \n",
    "def kth_largest(arr, k):\n",
    "    # Time complexity: O(n)\n",
    "    arr = [-elem for elem in arr]\n",
    "    # Time complexity: O(n)\n",
    "    heapq.heapify(arr)\n",
    "    # Time complexity: O(k - 1)\n",
    "    for i in range(k - 1):\n",
    "        # Time complexity: O(log n)\n",
    "        heapq.heappop(arr)\n",
    "    # Time complexity: O(log n)\n",
    "    return -heapq.heappop(arr)"
   ]
  },
  {
   "cell_type": "code",
   "execution_count": 53,
   "metadata": {},
   "outputs": [
    {
     "data": {
      "text/plain": [
       "6"
      ]
     },
     "execution_count": 53,
     "metadata": {},
     "output_type": "execute_result"
    }
   ],
   "source": [
    "kth_largest([4, 2, 9, 7, 5, 6, 7, 1, 3], 4)"
   ]
  }
 ],
 "metadata": {
  "kernelspec": {
   "display_name": "Python 3",
   "language": "python",
   "name": "python3"
  },
  "language_info": {
   "codemirror_mode": {
    "name": "ipython",
    "version": 3
   },
   "file_extension": ".py",
   "mimetype": "text/x-python",
   "name": "python",
   "nbconvert_exporter": "python",
   "pygments_lexer": "ipython3",
   "version": "3.10.10"
  },
  "orig_nbformat": 4
 },
 "nbformat": 4,
 "nbformat_minor": 2
}
