{
 "cells": [
  {
   "cell_type": "markdown",
   "metadata": {},
   "source": [
    "# 1. Valid anagram"
   ]
  },
  {
   "cell_type": "markdown",
   "metadata": {},
   "source": [
    "<div style=\"text-align:center;\">\n",
    "    <img src=\"photos/anagram.png\" alt=\"Alt Text\" width=\"220\" height=\"190\">\n",
    "</div>"
   ]
  },
  {
   "cell_type": "code",
   "execution_count": 26,
   "metadata": {},
   "outputs": [],
   "source": [
    "def are_anagrams(str1, str2):\n",
    "  if len(str1) != len(str2) : \n",
    "    return False\n",
    "  freq1 = {}\n",
    "  freq2 = {}\n",
    "  for c in str1:\n",
    "    if c in freq1:\n",
    "      freq1[c] += 1 \n",
    "    else :\n",
    "      freq1[c] = 1\n",
    "  for c in str2:\n",
    "    if c in freq2:\n",
    "      freq2[c] += 1 \n",
    "    else :\n",
    "      freq2[c] = 1\n",
    "  for key in freq1 : \n",
    "    if key not in freq2 or freq1[key] != freq2[key]:\n",
    "      return False \n",
    "  return True"
   ]
  },
  {
   "cell_type": "code",
   "execution_count": 31,
   "metadata": {},
   "outputs": [
    {
     "name": "stdout",
     "output_type": "stream",
     "text": [
      "CPU times: total: 0 ns\n",
      "Wall time: 0 ns\n"
     ]
    },
    {
     "data": {
      "text/plain": [
       "True"
      ]
     },
     "execution_count": 31,
     "metadata": {},
     "output_type": "execute_result"
    }
   ],
   "source": [
    "are_anagrams(\"jamil\", \"lamij\")"
   ]
  }
 ],
 "metadata": {
  "kernelspec": {
   "display_name": "Python 3",
   "language": "python",
   "name": "python3"
  },
  "language_info": {
   "codemirror_mode": {
    "name": "ipython",
    "version": 3
   },
   "file_extension": ".py",
   "mimetype": "text/x-python",
   "name": "python",
   "nbconvert_exporter": "python",
   "pygments_lexer": "ipython3",
   "version": "3.10.10"
  },
  "orig_nbformat": 4
 },
 "nbformat": 4,
 "nbformat_minor": 2
}
