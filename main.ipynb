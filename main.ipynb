{
 "cells": [
  {
   "cell_type": "markdown",
   "metadata": {},
   "source": [
    "# 1. Valid anagram"
   ]
  },
  {
   "cell_type": "markdown",
   "metadata": {},
   "source": [
    "<div style=\"text-align:center;\">\n",
    "    <img src=\"photos/anagram.png\" alt=\"Alt Text\" width=\"220\" height=\"190\">\n",
    "</div>"
   ]
  },
  {
   "cell_type": "code",
   "execution_count": 32,
   "metadata": {},
   "outputs": [],
   "source": [
    "# Time complexity: T(n) = O(1) + O(1) + O(n) + O(m) + O(n) + O(1)\n",
    "#                       = O(1) + O(n) + O(m) + O(n) + O(1) \n",
    "#                       = O(2) + O(2n) + O(m)\n",
    "#                       = O(2n + m) \n",
    "def are_anagrams(str1, str2):\n",
    "    # Time complexity: O(1)\n",
    "    if len(str1) != len(str2):\n",
    "        return False\n",
    "    # Time complexity: O(1)\n",
    "    freq1 = {}\n",
    "    freq2 = {}\n",
    "    # Time complexity: O(n), where 'n' is the length of str1\n",
    "    for c in str1:\n",
    "        if c in freq1:\n",
    "            freq1[c] += 1\n",
    "        else:\n",
    "            freq1[c] = 1\n",
    "    # Time complexity: O(m), where 'm' is the length of str2\n",
    "    for c in str2:\n",
    "        if c in freq2:\n",
    "            freq2[c] += 1\n",
    "        else:\n",
    "            freq2[c] = 1\n",
    "    # Time complexity: O(n), where 'n' is the length of str1 or str2 (whichever is longer)\n",
    "    for key in freq1:    \n",
    "        if key not in freq2 or freq1[key] != freq2[key]:\n",
    "            return False\n",
    "    # Time complexity: O(1), as it's a constant-time operation\n",
    "    return True"
   ]
  },
  {
   "cell_type": "code",
   "execution_count": 34,
   "metadata": {},
   "outputs": [],
   "source": [
    "from collections import Counter\n",
    "# Time complexity: T(n) = O(1) + O(n) + O(m)\n",
    "#                       = O(n + m)\n",
    "def are_anagrams(str1, str2):\n",
    "    # Time complexity: O(1), as it's a constant-time operation\n",
    "    if len(str1) != len(str2):\n",
    "        return False\n",
    "    # Time complexity: O(n) + O(m), where 'n' is the length of str1 and 'm' is the length of str2\n",
    "    return Counter(str1) == Counter(str2)"
   ]
  },
  {
   "cell_type": "code",
   "execution_count": 39,
   "metadata": {},
   "outputs": [],
   "source": [
    "# Time complexity: T(n) = O(1) + O(n * log(n))\n",
    "#                       = O(n * log(n))\n",
    "def are_anagrams(str1, str2):\n",
    "    # Time complexity: O(1), as it's a constant-time operation\n",
    "    if len(str1) != len(str2):\n",
    "        return False\n",
    "    # Time complexity: O(n*log(n)), where 'n' is the length of str1 or str2 (whichever is longer)\n",
    "    return sorted(str1) == sorted(str2)"
   ]
  },
  {
   "cell_type": "code",
   "execution_count": 38,
   "metadata": {},
   "outputs": [
    {
     "data": {
      "text/plain": [
       "True"
      ]
     },
     "execution_count": 38,
     "metadata": {},
     "output_type": "execute_result"
    }
   ],
   "source": [
    "are_anagrams(\"jamil\", \"lamij\")"
   ]
  }
 ],
 "metadata": {
  "kernelspec": {
   "display_name": "Python 3",
   "language": "python",
   "name": "python3"
  },
  "language_info": {
   "codemirror_mode": {
    "name": "ipython",
    "version": 3
   },
   "file_extension": ".py",
   "mimetype": "text/x-python",
   "name": "python",
   "nbconvert_exporter": "python",
   "pygments_lexer": "ipython3",
   "version": "3.10.10"
  },
  "orig_nbformat": 4
 },
 "nbformat": 4,
 "nbformat_minor": 2
}
